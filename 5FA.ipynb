{
 "cells": [
  {
   "cell_type": "code",
   "execution_count": 4,
   "metadata": {},
   "outputs": [],
   "source": [
    "from Crypto.Cipher import AES,ChaCha20,DES,DES3\n",
    "from rsa123 import encrypt_rsa,decrypt_rsa,generate_rsa_keys\n",
    "from Crypto.Util.Padding import pad, unpad\n",
    "from Crypto.Random import get_random_bytes\n",
    "import Aes\n",
    "import Chacha\n",
    "import timeit\n",
    "import matplotlib.pyplot as plt\n",
    "import hmac\n",
    "import hashlib"
   ]
  },
  {
   "cell_type": "code",
   "execution_count": 5,
   "metadata": {},
   "outputs": [],
   "source": [
    "def encrypt_AES(key, plaintext):\n",
    "    cipher = AES.new(key, AES.MODE_ECB)\n",
    "    return cipher.encrypt(pad(plaintext, AES.block_size))\n",
    "\n",
    "def decrypt_AES(key, ciphertext):\n",
    "    cipher = AES.new(key, AES.MODE_ECB)\n",
    "    return unpad(cipher.decrypt(ciphertext), AES.block_size)"
   ]
  },
  {
   "cell_type": "code",
   "execution_count": 6,
   "metadata": {},
   "outputs": [],
   "source": [
    "def encrypt_chacha20(key, msg, nonce):\n",
    "    cipher = ChaCha20.new(key=key, nonce=nonce)\n",
    "    ciphertext = cipher.encrypt(msg)\n",
    "    return ciphertext\n",
    "\n",
    "def decrypt_chacha20(key, ciphertext, nonce):\n",
    "    cipher = ChaCha20.new(key=key, nonce=nonce)\n",
    "    decrypted = cipher.decrypt(ciphertext)\n",
    "    return decrypted"
   ]
  },
  {
   "cell_type": "code",
   "execution_count": 7,
   "metadata": {},
   "outputs": [],
   "source": [
    "def encrypt_DES(key, plaintext):\n",
    "    cipher = DES.new(key, DES.MODE_ECB)\n",
    "    return cipher.encrypt(pad(plaintext, DES.block_size))\n",
    "\n",
    "def decrypt_DES(key, ciphertext):\n",
    "    cipher = DES.new(key, DES.MODE_ECB)\n",
    "    return unpad(cipher.decrypt(ciphertext), DES.block_size)"
   ]
  },
  {
   "cell_type": "code",
   "execution_count": 8,
   "metadata": {},
   "outputs": [],
   "source": [
    "def encrypt_DES3(key, plaintext):\n",
    "    cipher = DES3.new(key, DES3.MODE_ECB)\n",
    "    return cipher.encrypt(pad(plaintext, DES3.block_size))\n",
    "\n",
    "def decrypt_DES3(key, ciphertext):\n",
    "    cipher = DES3.new(key, DES3.MODE_ECB)\n",
    "    return unpad(cipher.decrypt(ciphertext), DES3.block_size)"
   ]
  },
  {
   "cell_type": "code",
   "execution_count": 9,
   "metadata": {},
   "outputs": [],
   "source": [
    "def generate_hmac_sha256(key, data):\n",
    "    return hmac.new(key, data, hashlib.sha256).digest()\n",
    "\n",
    "\n",
    "def encrypt_chamac(key, msg, nonce):\n",
    "    cipher = Chacha.chacha20_encrypt(msg, key, nonce)\n",
    "    hmac_digest = generate_hmac_sha256(key, cipher)\n",
    "    return hmac_digest, cipher\n",
    "\n",
    "def decrypt_chamac(key, hmac_digest, cipher, nonce):\n",
    "    if hmac_digest != generate_hmac_sha256(key, cipher):\n",
    "        return \"HMAC mismatch. Data is tampered\"\n",
    "    return Chacha.chacha20_decrypt(cipher, key, nonce)\n"
   ]
  },
  {
   "cell_type": "markdown",
   "metadata": {},
   "source": [
    "### Inbuilt Implementation"
   ]
  },
  {
   "cell_type": "code",
   "execution_count": 10,
   "metadata": {},
   "outputs": [
    {
     "name": "stdout",
     "output_type": "stream",
     "text": [
      "AES\n",
      "Plaintext: 3243f6a8885a308d313198a2e0370734\n",
      "Ciphertext: 621ab256948ce6c27f6d6960255736632ad22fbe90922da58a27dae8e0517317\n",
      "Decrypted: 3243f6a8885a308d313198a2e0370734\n",
      "Encryption time: 0.021922100000001166\n",
      "Decryption time: 0.026310299999998676\n",
      "\n",
      "ChaCha20\n",
      "Plaintext: 3243f6a8885a308d313198a2e0370734\n",
      "Ciphertext: 8a6bf8b07f3818be11804734301ea81f\n",
      "Decrypted: 3243f6a8885a308d313198a2e0370734\n",
      "Encryption time: 0.3546061999999992\n",
      "Decryption time: 0.33606080000000027\n",
      "\n",
      "DES\n",
      "Plaintext: 3243f6a8885a308d313198a2e0370734\n",
      "Ciphertext: b07403e9e6d352e19aca4426ef7fe01197a265c8f60b7337\n",
      "Decrypted: 3243f6a8885a308d313198a2e0370734\n",
      "Encryption time: 0.04592079999999932\n",
      "Decryption time: 0.04366770000000031\n",
      "\n",
      "3DES\n",
      "Plaintext: 3243f6a8885a308d313198a2e0370734\n",
      "Ciphertext: ee0d504d81cc4f88e3a5b63a8f026bb7d90c25a7b581e09b\n",
      "Decrypted: 3243f6a8885a308d313198a2e0370734\n",
      "Encryption time: 0.16277509999999928\n",
      "Decryption time: 0.10773679999999963\n"
     ]
    }
   ],
   "source": [
    "msg = 0x3243f6a8885a308d313198a2e0370734\n",
    "key = get_random_bytes(32)\n",
    "key1 = get_random_bytes(8)\n",
    "key2 = get_random_bytes(24)\n",
    "msg = msg.to_bytes(16, byteorder='big')\n",
    "nonce = get_random_bytes(8)\n",
    "\n",
    "print(\"AES\")\n",
    "print(\"Plaintext:\", msg.hex())\n",
    "ciphertext = encrypt_AES(key, msg)\n",
    "print(\"Ciphertext:\", ciphertext.hex())\n",
    "decrypted = decrypt_AES(key, ciphertext)\n",
    "print(\"Decrypted:\", decrypted.hex())\n",
    "encryption_time = timeit.timeit(lambda: encrypt_AES(key, msg), number=1000)\n",
    "print(\"Encryption time:\", encryption_time)\n",
    "decryption_time = timeit.timeit(lambda: decrypt_AES(key, ciphertext), number=1000)\n",
    "print(\"Decryption time:\", decryption_time)\n",
    "\n",
    "print(\"\\nChaCha20\")\n",
    "print(\"Plaintext:\", msg.hex())\n",
    "hmac_digest, ciphertext = encrypt_chamac(key, msg, nonce)\n",
    "print(\"Ciphertext:\", ciphertext.hex())\n",
    "decrypted = decrypt_chamac(key, hmac_digest, ciphertext, nonce)\n",
    "print(\"Decrypted:\", decrypted.hex())\n",
    "encryption_time = timeit.timeit(lambda: encrypt_chamac(key, msg, nonce), number=1000)\n",
    "print(\"Encryption time:\", encryption_time)\n",
    "decryption_time = timeit.timeit(lambda: decrypt_chamac(key, hmac_digest, ciphertext, nonce), number=1000)\n",
    "print(\"Decryption time:\", decryption_time)\n",
    "\n",
    "print(\"\\nDES\")\n",
    "print(\"Plaintext:\", msg.hex())\n",
    "ciphertext = encrypt_DES(key1, msg)\n",
    "print(\"Ciphertext:\", ciphertext.hex())\n",
    "decrypted = decrypt_DES(key1, ciphertext)\n",
    "print(\"Decrypted:\", decrypted.hex())\n",
    "encryption_time = timeit.timeit(lambda: encrypt_DES(key1, msg), number=1000)\n",
    "print(\"Encryption time:\", encryption_time)\n",
    "decryption_time = timeit.timeit(lambda: decrypt_DES(key1, ciphertext), number=1000)\n",
    "print(\"Decryption time:\", decryption_time)\n",
    "\n",
    "print(\"\\n3DES\")\n",
    "print(\"Plaintext:\", msg.hex())\n",
    "ciphertext = encrypt_DES3(key2, msg)\n",
    "print(\"Ciphertext:\", ciphertext.hex())\n",
    "decrypted = decrypt_DES3(key2, ciphertext)\n",
    "print(\"Decrypted:\", decrypted.hex())\n",
    "encryption_time = timeit.timeit(lambda: encrypt_DES3(key2, msg), number=1000)\n",
    "print(\"Encryption time:\", encryption_time)\n",
    "decryption_time = timeit.timeit(lambda: decrypt_DES3(key2, ciphertext), number=1000)\n",
    "print(\"Decryption time:\", decryption_time)"
   ]
  },
  {
   "cell_type": "markdown",
   "metadata": {},
   "source": [
    "### Scratch Implementation"
   ]
  },
  {
   "cell_type": "code",
   "execution_count": 11,
   "metadata": {},
   "outputs": [
    {
     "name": "stdout",
     "output_type": "stream",
     "text": [
      "AES\n",
      "Plaintext: 3624f1b55634b7fdfe95fb7715398599\n",
      "Ciphertext: a9b6d2b8c0b1c533fea3d27cdb30289d\n",
      "Decrypted: 3624f1b55634b7fdfe95fb7715398599\n",
      "Encryption time: 0.3498816999999974\n",
      "Decryption time: 0.4054879000000007\n",
      "Total time: 0.7553695999999981\n",
      "\n",
      "ChaCha20\n",
      "Plaintext: 3624f1b55634b7fdfe95fb7715398599\n",
      "Ciphertext: 216597d45a4fcf33b6d6e840c5ca71d2\n",
      "Decrypted: 3624f1b55634b7fdfe95fb7715398599\n",
      "Encryption time: 0.32241630000000043\n",
      "Decryption time: 0.3469861999999999\n",
      "Total time: 0.6694025000000003\n"
     ]
    }
   ],
   "source": [
    "msg = get_random_bytes(16)\n",
    "key = get_random_bytes(32)\n",
    "nonce = get_random_bytes(8)\n",
    "\n",
    "print(\"AES\")\n",
    "print(\"Plaintext:\", msg.hex())\n",
    "aes = Aes.AES(int.from_bytes(key, byteorder='big'))\n",
    "ciphertext = aes.encrypt(int.from_bytes(msg, byteorder='big'))\n",
    "print(\"Ciphertext:\", ciphertext.to_bytes(16, byteorder='big').hex())\n",
    "decrypted = aes.decrypt(ciphertext)\n",
    "print(\"Decrypted:\", decrypted.to_bytes(16, byteorder='big').hex())\n",
    "encryption_time = timeit.timeit(lambda: aes.encrypt(int.from_bytes(msg, byteorder='big')), number=1500)\n",
    "print(\"Encryption time:\", encryption_time)\n",
    "decryption_time = timeit.timeit(lambda: aes.decrypt(ciphertext), number=1500)\n",
    "print(\"Decryption time:\", decryption_time)\n",
    "print(\"Total time:\", encryption_time + decryption_time)\n",
    "\n",
    "print(\"\\nChaCha20\")\n",
    "print(\"Plaintext:\", msg.hex())\n",
    "hmac_digest, ciphertext = encrypt_chamac(key, msg, nonce)\n",
    "print(\"Ciphertext:\", ciphertext.hex())\n",
    "decrypted = decrypt_chamac(key, hmac_digest, ciphertext, nonce)\n",
    "print(\"Decrypted:\", decrypted.hex())\n",
    "encryption_time = timeit.timeit(lambda: encrypt_chamac(key, msg, nonce), number=1000)\n",
    "print(\"Encryption time:\", encryption_time)\n",
    "decryption_time = timeit.timeit(lambda: decrypt_chamac(key, hmac_digest, ciphertext, nonce), number=1000)\n",
    "print(\"Decryption time:\", decryption_time)\n",
    "print(\"Total time:\", encryption_time + decryption_time)"
   ]
  },
  {
   "cell_type": "code",
   "execution_count": 75,
   "metadata": {},
   "outputs": [],
   "source": [
    "import random\n",
    "\n",
    "\n",
    "def calculation():\n",
    "    msg = get_random_bytes(16)\n",
    "    key = get_random_bytes(32)\n",
    "    key1 = get_random_bytes(8)\n",
    "    key2 = get_random_bytes(24)\n",
    "    nonce = get_random_bytes(8)\n",
    "    p, q = generate_rsa_keys(512)\n",
    "    msg1 = random.randint(1000000, 1000000000)\n",
    "\n",
    "\n",
    "    aes = Aes.AES(int.from_bytes(key, byteorder='big'))\n",
    "    ciphertext = aes.encrypt(int.from_bytes(msg, byteorder='big'))\n",
    "    decrypted = aes.decrypt(ciphertext)\n",
    "    encryption_time = timeit.timeit(lambda: aes.encrypt(int.from_bytes(msg, byteorder='big')), number=1000)\n",
    "    decryption_time = timeit.timeit(lambda: aes.decrypt(ciphertext), number=1000)\n",
    "    x1 = encryption_time + decryption_time\n",
    "\n",
    "    ciphertext,hmac_digest = encrypt_chamac(key, msg, nonce)\n",
    "    decrypted = decrypt_chamac(key, hmac_digest, ciphertext, nonce)\n",
    "    encryption_time = timeit.timeit(lambda: encrypt_chamac(key, msg, nonce), number=1000)\n",
    "    decryption_time = timeit.timeit(lambda: decrypt_chamac(key, hmac_digest, ciphertext, nonce), number=1000)\n",
    "    x2 = encryption_time + decryption_time\n",
    "\n",
    "    ciphertext = encrypt_DES(key1, msg)\n",
    "    decrypted = decrypt_DES(key1, ciphertext)\n",
    "    encryption_time = timeit.timeit(lambda: encrypt_DES(key1, msg), number=1000)\n",
    "    decryption_time = timeit.timeit(lambda: decrypt_DES(key1, ciphertext), number=1000)\n",
    "    x3 = encryption_time + decryption_time\n",
    "\n",
    "    ciphertext = encrypt_DES3(key2, msg)\n",
    "    decrypted = decrypt_DES3(key2, ciphertext)\n",
    "    encryption_time = timeit.timeit(lambda: encrypt_DES3(key2, msg), number=1000)\n",
    "    decryption_time = timeit.timeit(lambda: decrypt_DES3(key2, ciphertext), number=1000)\n",
    "    x4 = encryption_time + decryption_time\n",
    "\n",
    "    ciphertext = encrypt_rsa(msg1, p)\n",
    "    decrypted = decrypt_rsa(ciphertext, q)\n",
    "    encryption_time = timeit.timeit(lambda: encrypt_rsa(msg1, p), number=1000)\n",
    "    decryption_time = timeit.timeit(lambda: decrypt_rsa(ciphertext, q), number=1000)\n",
    "    x5 = encryption_time + decryption_time\n",
    "    \n",
    "    \n",
    "    \n",
    "    return x1,x2,x3,x4,x5"
   ]
  },
  {
   "cell_type": "code",
   "execution_count": 76,
   "metadata": {},
   "outputs": [],
   "source": [
    "l1 = []\n",
    "l2 = []\n",
    "l3 = []\n",
    "l4 = []\n",
    "l5 = []\n",
    "for i in range(15):\n",
    "    x1,x2,x3,x4,x5 = calculation()\n",
    "    l1.append(x1)\n",
    "    l2.append(x2)\n",
    "    l3.append(x3)\n",
    "    l4.append(x4)\n",
    "    l5.append(x5)"
   ]
  },
  {
   "cell_type": "code",
   "execution_count": 79,
   "metadata": {},
   "outputs": [
    {
     "data": {
      "image/png": "[encoded data removed]",
      "text/plain": [
       "<Figure size 300x300 with 1 Axes>"
      ]
     },
     "metadata": {},
     "output_type": "display_data"
    }
   ],
   "source": [
    "plt.figure(figsize=(3,3))\n",
    "colors = ['#1f77b4', '#ff7f0e', '#2ca02c']\n",
    "plt.bar(['RSA', 'AES', 'ChaMAC'], [sum(l5)/len(l5), sum(l1)/len(l1), sum(l2)/len(l2)], color=colors,width=0.5,align='center')\n",
    "plt.ylabel('Time in seconds')\n",
    "plt.xlabel('Algorithms')\n",
    "plt.title('Average time taken to encrypt and decrypt')\n",
    "plt.show()"
   ]
  },
  {
   "cell_type": "code",
   "execution_count": 24,
   "metadata": {},
   "outputs": [],
   "source": [
    "x1,x2,x3,x4,x5 = calculation()\n",
    "l1 = [x1,x2,x3,x4,x5]\n",
    "l2 = [0,0,0,0,0]\n",
    "for i in range(100):\n",
    "    x1,x2,x3,x4,x5 = calculation()\n",
    "    l2[0]+=x1\n",
    "    l2[1]+=x2\n",
    "    l2[2]+=x3\n",
    "    l2[3]+=x4\n",
    "    l2[4]+=x5\n",
    "l3 = [0,0,0,0,0]\n",
    "for i in range(200):\n",
    "    x1,x2,x3,x4,x5 = calculation()\n",
    "    l3[0]+=x1\n",
    "    l3[1]+=x2\n",
    "    l3[2]+=x3\n",
    "    l3[3]+=x4\n",
    "    l3[4]+=x5\n",
    "\n",
    "l4 = [0,0,0,0,0]\n",
    "for i in range(300):\n",
    "    x1,x2,x3,x4,x5 = calculation()\n",
    "    l4[0]+=x1\n",
    "    l4[1]+=x2\n",
    "    l4[2]+=x3\n",
    "    l4[3]+=x4\n",
    "    l4[4]+=x5"
   ]
  },
  {
   "cell_type": "code",
   "execution_count": 25,
   "metadata": {},
   "outputs": [
    {
     "name": "stdout",
     "output_type": "stream",
     "text": [
      "2.180870900000002 0.4816439999999602 0.35067809999992505\n",
      "136.1637386 31.70869140000042 22.87999480000036\n",
      "281.87997300000205 63.47288519999972 47.23524450000002\n",
      "417.85415070000045 96.15933309999843 69.17610640000157\n"
     ]
    }
   ],
   "source": [
    "print(l1[4],l1[0],l1[1])\n",
    "print(l2[4],l2[0],l2[1])\n",
    "print(l3[4],l3[0],l3[1])\n",
    "print(l4[4],l4[0],l4[1])"
   ]
  },
  {
   "cell_type": "code",
   "execution_count": 71,
   "metadata": {},
   "outputs": [
    {
     "ename": "NameError",
     "evalue": "name 'l1' is not defined",
     "output_type": "error",
     "traceback": [
      "\u001b[1;31m---------------------------------------------------------------------------\u001b[0m",
      "\u001b[1;31mNameError\u001b[0m                                 Traceback (most recent call last)",
      "Cell \u001b[1;32mIn[1], line 22\u001b[0m\n\u001b[0;32m     19\u001b[0m     ticks \u001b[38;5;241m=\u001b[39m np\u001b[38;5;241m.\u001b[39marange(min_val, max_val\u001b[38;5;241m+\u001b[39m\u001b[38;5;241m1\u001b[39m, ((max_val\u001b[38;5;241m-\u001b[39mmin_val)\u001b[38;5;241m/\u001b[39m\u001b[38;5;241m/\u001b[39m\u001b[38;5;241m4\u001b[39m) \u001b[38;5;241m+\u001b[39m \u001b[38;5;241m1\u001b[39m)  \u001b[38;5;66;03m# Equally spaced ticks based on data range\u001b[39;00m\n\u001b[0;32m     20\u001b[0m     ax\u001b[38;5;241m.\u001b[39mset_yticks(ticks)\n\u001b[1;32m---> 22\u001b[0m plot_subplot(axs[\u001b[38;5;241m0\u001b[39m, \u001b[38;5;241m0\u001b[39m], [\u001b[43ml1\u001b[49m[\u001b[38;5;241m4\u001b[39m], l1[\u001b[38;5;241m0\u001b[39m], l1[\u001b[38;5;241m1\u001b[39m]], \u001b[38;5;124m'\u001b[39m\u001b[38;5;124m1 USER\u001b[39m\u001b[38;5;124m'\u001b[39m)\n\u001b[0;32m     23\u001b[0m plot_subplot(axs[\u001b[38;5;241m0\u001b[39m, \u001b[38;5;241m1\u001b[39m], [l2[\u001b[38;5;241m4\u001b[39m], l2[\u001b[38;5;241m0\u001b[39m], l2[\u001b[38;5;241m1\u001b[39m]], \u001b[38;5;124m'\u001b[39m\u001b[38;5;124m100 USERS\u001b[39m\u001b[38;5;124m'\u001b[39m)\n\u001b[0;32m     24\u001b[0m plot_subplot(axs[\u001b[38;5;241m1\u001b[39m, \u001b[38;5;241m0\u001b[39m], [l3[\u001b[38;5;241m4\u001b[39m], l3[\u001b[38;5;241m0\u001b[39m], l3[\u001b[38;5;241m1\u001b[39m]], \u001b[38;5;124m'\u001b[39m\u001b[38;5;124m200 USERS\u001b[39m\u001b[38;5;124m'\u001b[39m)\n",
      "\u001b[1;31mNameError\u001b[0m: name 'l1' is not defined"
     ]
    },
    {
     "data": {
      "image/png": "[encoded data removed]",
      "text/plain": [
       "<Figure size 500x500 with 4 Axes>"
      ]
     },
     "metadata": {},
     "output_type": "display_data"
    }
   ],
   "source": [
    "import numpy as np\n",
    "import matplotlib.pyplot as plt\n",
    "\n",
    "# Assuming l1, l2, l3, l4 are lists containing data for each user count\n",
    "\n",
    "fig, axs = plt.subplots(2, 2, figsize=(5, 5))\n",
    "\n",
    "# Define colors for each algorithm\n",
    "colors = ['#1f77b4', '#ff7f0e', '#2ca02c']\n",
    "\n",
    "# Plotting each bar chart with different colors\n",
    "def plot_subplot(ax, data, title):\n",
    "    ax.bar(['RSA', 'AES', 'ChaMAC'], data, width=0.5, align='center', color=colors)\n",
    "    ax.set_ylabel('Time in seconds')\n",
    "    ax.set_xlabel('Algorithms')\n",
    "    ax.set_title(title, fontsize=10)\n",
    "    min_val = int(min(data))\n",
    "    max_val = int(max(data))\n",
    "    ticks = np.arange(min_val, max_val+1, ((max_val-min_val)//4) + 1)  # Equally spaced ticks based on data range\n",
    "    ax.set_yticks(ticks)\n",
    "\n",
    "plot_subplot(axs[0, 0], [l1[4], l1[0], l1[1]], '1 USER')\n",
    "plot_subplot(axs[0, 1], [l2[4], l2[0], l2[1]], '100 USERS')\n",
    "plot_subplot(axs[1, 0], [l3[4], l3[0], l3[1]], '200 USERS')\n",
    "plot_subplot(axs[1, 1], [l4[4], l4[0], l4[1]], '300 USERS')\n",
    "\n",
    "# Main title for all subplots\n",
    "plt.suptitle('Time taken to encrypt and decrypt for n users', fontsize=12)\n",
    "\n",
    "plt.tight_layout()\n",
    "plt.show()\n"
   ]
  }
 ],
 "metadata": {
  "kernelspec": {
   "display_name": "general",
   "language": "python",
   "name": "python3"
  },
  "language_info": {
   "codemirror_mode": {
    "name": "ipython",
    "version": 3
   },
   "file_extension": ".py",
   "mimetype": "text/x-python",
   "name": "python",
   "nbconvert_exporter": "python",
   "pygments_lexer": "ipython3",
   "version": "3.12.3"
  }
 },
 "nbformat": 4,
 "nbformat_minor": 2
}
